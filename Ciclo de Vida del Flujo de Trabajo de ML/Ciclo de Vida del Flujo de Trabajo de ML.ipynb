{
 "cells": [
  {
   "cell_type": "markdown",
   "id": "4a3e4ee6",
   "metadata": {},
   "source": [
    "# Laboratorio de MLOps - Ciclo de Vida del Flujo de Trabajo de ML"
   ]
  },
  {
   "cell_type": "markdown",
   "id": "781b3de1",
   "metadata": {},
   "source": [
    "## 1. Carga de archivo csv."
   ]
  },
  {
   "cell_type": "markdown",
   "id": "97273b9b",
   "metadata": {},
   "source": [
    "El archivo no es mas que un .csv con las horas de estudio, cantidad de clase, y calificaciones ficticias de alumnos.  \n",
    "Este archivo fue usado como material complementario en el ramo de programación avanzada en un laboratorio de regresión lineal, por lo que lo considero un buen recurso para usar en la presente actividad."
   ]
  },
  {
   "cell_type": "code",
   "execution_count": 21,
   "id": "7dc8a29a",
   "metadata": {},
   "outputs": [],
   "source": [
    "import pandas as pd\n",
    "data = pd.read_csv('Student_Marks.csv')"
   ]
  },
  {
   "cell_type": "markdown",
   "id": "58c6c54a",
   "metadata": {},
   "source": [
    "## 2. Exploración de datos."
   ]
  },
  {
   "cell_type": "code",
   "execution_count": 22,
   "id": "731acc38",
   "metadata": {},
   "outputs": [
    {
     "name": "stdout",
     "output_type": "stream",
     "text": [
      "CANTIDAD DE FILAS:  100 \n",
      "CANTIDAD DE COLUMNAS:  3\n",
      "***********************\n",
      "number_courses      int64\n",
      "time_study        float64\n",
      "Marks             float64\n",
      "dtype: object\n"
     ]
    }
   ],
   "source": [
    "#Cantidad de filas y columnas\n",
    "filas, columnas = data.shape\n",
    "print(\"CANTIDAD DE FILAS: \", filas, \"\\nCANTIDAD DE COLUMNAS: \", columnas)\n",
    "print(\"***********************\")\n",
    "print(data.dtypes)"
   ]
  },
  {
   "cell_type": "code",
   "execution_count": 23,
   "id": "e0d9ba11",
   "metadata": {},
   "outputs": [
    {
     "data": {
      "text/html": [
       "<div>\n",
       "<style scoped>\n",
       "    .dataframe tbody tr th:only-of-type {\n",
       "        vertical-align: middle;\n",
       "    }\n",
       "\n",
       "    .dataframe tbody tr th {\n",
       "        vertical-align: top;\n",
       "    }\n",
       "\n",
       "    .dataframe thead th {\n",
       "        text-align: right;\n",
       "    }\n",
       "</style>\n",
       "<table border=\"1\" class=\"dataframe\">\n",
       "  <thead>\n",
       "    <tr style=\"text-align: right;\">\n",
       "      <th></th>\n",
       "      <th>number_courses</th>\n",
       "      <th>time_study</th>\n",
       "      <th>Marks</th>\n",
       "    </tr>\n",
       "  </thead>\n",
       "  <tbody>\n",
       "    <tr>\n",
       "      <th>0</th>\n",
       "      <td>3</td>\n",
       "      <td>4.508</td>\n",
       "      <td>19.202</td>\n",
       "    </tr>\n",
       "    <tr>\n",
       "      <th>1</th>\n",
       "      <td>4</td>\n",
       "      <td>0.096</td>\n",
       "      <td>7.734</td>\n",
       "    </tr>\n",
       "    <tr>\n",
       "      <th>2</th>\n",
       "      <td>4</td>\n",
       "      <td>3.133</td>\n",
       "      <td>13.811</td>\n",
       "    </tr>\n",
       "    <tr>\n",
       "      <th>3</th>\n",
       "      <td>6</td>\n",
       "      <td>7.909</td>\n",
       "      <td>53.018</td>\n",
       "    </tr>\n",
       "    <tr>\n",
       "      <th>4</th>\n",
       "      <td>8</td>\n",
       "      <td>7.811</td>\n",
       "      <td>55.299</td>\n",
       "    </tr>\n",
       "    <tr>\n",
       "      <th>5</th>\n",
       "      <td>6</td>\n",
       "      <td>3.211</td>\n",
       "      <td>17.822</td>\n",
       "    </tr>\n",
       "    <tr>\n",
       "      <th>6</th>\n",
       "      <td>3</td>\n",
       "      <td>6.063</td>\n",
       "      <td>29.889</td>\n",
       "    </tr>\n",
       "    <tr>\n",
       "      <th>7</th>\n",
       "      <td>5</td>\n",
       "      <td>3.413</td>\n",
       "      <td>17.264</td>\n",
       "    </tr>\n",
       "    <tr>\n",
       "      <th>8</th>\n",
       "      <td>4</td>\n",
       "      <td>4.410</td>\n",
       "      <td>20.348</td>\n",
       "    </tr>\n",
       "    <tr>\n",
       "      <th>9</th>\n",
       "      <td>3</td>\n",
       "      <td>6.173</td>\n",
       "      <td>30.862</td>\n",
       "    </tr>\n",
       "  </tbody>\n",
       "</table>\n",
       "</div>"
      ],
      "text/plain": [
       "   number_courses  time_study   Marks\n",
       "0               3       4.508  19.202\n",
       "1               4       0.096   7.734\n",
       "2               4       3.133  13.811\n",
       "3               6       7.909  53.018\n",
       "4               8       7.811  55.299\n",
       "5               6       3.211  17.822\n",
       "6               3       6.063  29.889\n",
       "7               5       3.413  17.264\n",
       "8               4       4.410  20.348\n",
       "9               3       6.173  30.862"
      ]
     },
     "execution_count": 23,
     "metadata": {},
     "output_type": "execute_result"
    }
   ],
   "source": [
    "data.head(10)"
   ]
  },
  {
   "cell_type": "markdown",
   "id": "f3fd7456",
   "metadata": {},
   "source": [
    "## 3. Procesamiento de datos."
   ]
  },
  {
   "cell_type": "code",
   "execution_count": 24,
   "id": "08b2fd39",
   "metadata": {},
   "outputs": [],
   "source": [
    "from sklearn.model_selection import train_test_split\n",
    "from sklearn.preprocessing import StandardScaler"
   ]
  },
  {
   "cell_type": "code",
   "execution_count": 25,
   "id": "11b7cac8",
   "metadata": {},
   "outputs": [],
   "source": [
    "# Selección de características y variable objetivo\n",
    "X = data.drop('Marks', axis=1) # se elimina la columna Marks ya que es la que se intentara predecir\n",
    "y = data['Marks']\n",
    "\n",
    "# División en conjuntos de entrenamiento y prueba\n",
    "X_train, X_test, y_train, y_test = train_test_split(X, y, test_size=0.2, random_state=42)\n",
    "\n",
    "# train_test_split: Divide el conjunto de datos en conjuntos de entrenamiento y prueba.\n",
    "# X_train: Conjunto de características para entrenamiento.\n",
    "# X_test: Conjunto de características para prueba.\n",
    "# y_train: Valores objetivo correspondientes al conjunto de entrenamiento.\n",
    "# y_test: Valores objetivo correspondientes al conjunto de prueba.\n",
    "# test_size=0.2: Indica que el 20% de los datos se usarán como datos de prueba.\n",
    "# random_state=42: Establece una semilla para la aleatorización, asegurando reproducibilidad.\n",
    "\n",
    "# Normalización\n",
    "scaler = StandardScaler()\n",
    "X_train_scaled = scaler.fit_transform(X_train)\n",
    "X_test_scaled = scaler.transform(X_test)\n",
    "\n",
    "# scaler: Se utiliza para estandarizar las características.\n",
    "# fit_transform(X_train): Ajusta el escalador y transforma conjunto de entrenamiento (X_train) para que las características \n",
    "# tengan una media de cero y una varianza de uno.\n",
    "# transform(X_test): Utiliza el mismo escalador ajustado (scaler) para transformar X_test (conjunto de prueba), \n",
    "# utilizando los mismos parámetros de transformación que se calcularon a partir de X_train."
   ]
  },
  {
   "cell_type": "markdown",
   "id": "e3226450",
   "metadata": {},
   "source": [
    "## 4. Modelado básico.\n"
   ]
  },
  {
   "cell_type": "code",
   "execution_count": 26,
   "id": "b0a1fc0b",
   "metadata": {},
   "outputs": [
    {
     "data": {
      "text/html": [
       "<style>#sk-container-id-2 {color: black;}#sk-container-id-2 pre{padding: 0;}#sk-container-id-2 div.sk-toggleable {background-color: white;}#sk-container-id-2 label.sk-toggleable__label {cursor: pointer;display: block;width: 100%;margin-bottom: 0;padding: 0.3em;box-sizing: border-box;text-align: center;}#sk-container-id-2 label.sk-toggleable__label-arrow:before {content: \"▸\";float: left;margin-right: 0.25em;color: #696969;}#sk-container-id-2 label.sk-toggleable__label-arrow:hover:before {color: black;}#sk-container-id-2 div.sk-estimator:hover label.sk-toggleable__label-arrow:before {color: black;}#sk-container-id-2 div.sk-toggleable__content {max-height: 0;max-width: 0;overflow: hidden;text-align: left;background-color: #f0f8ff;}#sk-container-id-2 div.sk-toggleable__content pre {margin: 0.2em;color: black;border-radius: 0.25em;background-color: #f0f8ff;}#sk-container-id-2 input.sk-toggleable__control:checked~div.sk-toggleable__content {max-height: 200px;max-width: 100%;overflow: auto;}#sk-container-id-2 input.sk-toggleable__control:checked~label.sk-toggleable__label-arrow:before {content: \"▾\";}#sk-container-id-2 div.sk-estimator input.sk-toggleable__control:checked~label.sk-toggleable__label {background-color: #d4ebff;}#sk-container-id-2 div.sk-label input.sk-toggleable__control:checked~label.sk-toggleable__label {background-color: #d4ebff;}#sk-container-id-2 input.sk-hidden--visually {border: 0;clip: rect(1px 1px 1px 1px);clip: rect(1px, 1px, 1px, 1px);height: 1px;margin: -1px;overflow: hidden;padding: 0;position: absolute;width: 1px;}#sk-container-id-2 div.sk-estimator {font-family: monospace;background-color: #f0f8ff;border: 1px dotted black;border-radius: 0.25em;box-sizing: border-box;margin-bottom: 0.5em;}#sk-container-id-2 div.sk-estimator:hover {background-color: #d4ebff;}#sk-container-id-2 div.sk-parallel-item::after {content: \"\";width: 100%;border-bottom: 1px solid gray;flex-grow: 1;}#sk-container-id-2 div.sk-label:hover label.sk-toggleable__label {background-color: #d4ebff;}#sk-container-id-2 div.sk-serial::before {content: \"\";position: absolute;border-left: 1px solid gray;box-sizing: border-box;top: 0;bottom: 0;left: 50%;z-index: 0;}#sk-container-id-2 div.sk-serial {display: flex;flex-direction: column;align-items: center;background-color: white;padding-right: 0.2em;padding-left: 0.2em;position: relative;}#sk-container-id-2 div.sk-item {position: relative;z-index: 1;}#sk-container-id-2 div.sk-parallel {display: flex;align-items: stretch;justify-content: center;background-color: white;position: relative;}#sk-container-id-2 div.sk-item::before, #sk-container-id-2 div.sk-parallel-item::before {content: \"\";position: absolute;border-left: 1px solid gray;box-sizing: border-box;top: 0;bottom: 0;left: 50%;z-index: -1;}#sk-container-id-2 div.sk-parallel-item {display: flex;flex-direction: column;z-index: 1;position: relative;background-color: white;}#sk-container-id-2 div.sk-parallel-item:first-child::after {align-self: flex-end;width: 50%;}#sk-container-id-2 div.sk-parallel-item:last-child::after {align-self: flex-start;width: 50%;}#sk-container-id-2 div.sk-parallel-item:only-child::after {width: 0;}#sk-container-id-2 div.sk-dashed-wrapped {border: 1px dashed gray;margin: 0 0.4em 0.5em 0.4em;box-sizing: border-box;padding-bottom: 0.4em;background-color: white;}#sk-container-id-2 div.sk-label label {font-family: monospace;font-weight: bold;display: inline-block;line-height: 1.2em;}#sk-container-id-2 div.sk-label-container {text-align: center;}#sk-container-id-2 div.sk-container {/* jupyter's `normalize.less` sets `[hidden] { display: none; }` but bootstrap.min.css set `[hidden] { display: none !important; }` so we also need the `!important` here to be able to override the default hidden behavior on the sphinx rendered scikit-learn.org. See: https://github.com/scikit-learn/scikit-learn/issues/21755 */display: inline-block !important;position: relative;}#sk-container-id-2 div.sk-text-repr-fallback {display: none;}</style><div id=\"sk-container-id-2\" class=\"sk-top-container\"><div class=\"sk-text-repr-fallback\"><pre>LinearRegression()</pre><b>In a Jupyter environment, please rerun this cell to show the HTML representation or trust the notebook. <br />On GitHub, the HTML representation is unable to render, please try loading this page with nbviewer.org.</b></div><div class=\"sk-container\" hidden><div class=\"sk-item\"><div class=\"sk-estimator sk-toggleable\"><input class=\"sk-toggleable__control sk-hidden--visually\" id=\"sk-estimator-id-2\" type=\"checkbox\" checked><label for=\"sk-estimator-id-2\" class=\"sk-toggleable__label sk-toggleable__label-arrow\">LinearRegression</label><div class=\"sk-toggleable__content\"><pre>LinearRegression()</pre></div></div></div></div></div>"
      ],
      "text/plain": [
       "LinearRegression()"
      ]
     },
     "execution_count": 26,
     "metadata": {},
     "output_type": "execute_result"
    }
   ],
   "source": [
    "from sklearn.linear_model import LinearRegression\n",
    "\n",
    "model = LinearRegression()\n",
    "model.fit(X_train_scaled, y_train)"
   ]
  },
  {
   "cell_type": "markdown",
   "id": "c9d139b2",
   "metadata": {},
   "source": [
    "## 5. Evaluación de modelos."
   ]
  },
  {
   "cell_type": "code",
   "execution_count": 27,
   "id": "9433925e",
   "metadata": {},
   "outputs": [],
   "source": [
    "from sklearn.metrics import mean_squared_error"
   ]
  },
  {
   "cell_type": "code",
   "execution_count": 28,
   "id": "8ee26b8a",
   "metadata": {},
   "outputs": [
    {
     "name": "stdout",
     "output_type": "stream",
     "text": [
      "MSE: 14.20072613637459\n"
     ]
    }
   ],
   "source": [
    "y_pred = model.predict(X_test_scaled)\n",
    "mse = mean_squared_error(y_test, y_pred) # MSE = Error cuadratico medio\n",
    "print(f'MSE: {mse}')"
   ]
  },
  {
   "cell_type": "markdown",
   "id": "5e932487",
   "metadata": {},
   "source": [
    "MSE de 14.201 quiere decir que el modelo de regresión, en promedio, se equivoca en aproximadamente 14.2 unidades en el valor predecido respecto al valor real. En nuestro caso significa que el promedio de notas puede equivocarse en 14.2 decimas."
   ]
  },
  {
   "cell_type": "code",
   "execution_count": 29,
   "id": "ca7fb74c",
   "metadata": {},
   "outputs": [
    {
     "name": "stdout",
     "output_type": "stream",
     "text": [
      "MSE: 14.20072613637459\n",
      "Varianza de la variable objetivo: 205.23996548878787\n",
      "Rango de la variable objetivo: 49.69\n",
      "Relación MSE/Varianza: 0.06919084254645505\n",
      "Relación MSE/Rango: 0.28578639839755665\n"
     ]
    }
   ],
   "source": [
    "# Calculando la varianza y el rango de la variable objetivo\n",
    "variance = y.var()\n",
    "data_range = y.max() - y.min()\n",
    "\n",
    "print(f'MSE: {mse}')\n",
    "print(f'Varianza de la variable objetivo: {variance}')\n",
    "print(f'Rango de la variable objetivo: {data_range}')\n",
    "\n",
    "# Comparando el MSE con la varianza y el rango\n",
    "print(f'Relación MSE/Varianza: {mse/variance}')\n",
    "print(f'Relación MSE/Rango: {mse/data_range}')"
   ]
  },
  {
   "cell_type": "markdown",
   "id": "2e777b74",
   "metadata": {},
   "source": [
    "Una varianza de 6% bastante baja sumada a un rango de 28.5% sugiere que el modelo tiene un buen rendimiento en la predicción de la variable objetivo en relación con la dispersión y la variabilidad de los datos."
   ]
  },
  {
   "cell_type": "markdown",
   "id": "5ad402ba",
   "metadata": {},
   "source": [
    "## 6. Iteración de modelo mediante Gradient Boosting."
   ]
  },
  {
   "cell_type": "code",
   "execution_count": 30,
   "id": "4a1eadf1",
   "metadata": {},
   "outputs": [
    {
     "name": "stdout",
     "output_type": "stream",
     "text": [
      "Gradient Boosting MSE:  1.1959246514459527\n"
     ]
    }
   ],
   "source": [
    "from sklearn.ensemble import GradientBoostingRegressor\n",
    "\n",
    "# Datos de ejemplo (X_train, y_train definidos previamente)\n",
    "model = GradientBoostingRegressor(n_estimators=100, learning_rate=0.1, random_state=42)\n",
    "\n",
    "# Entrenar el modelo\n",
    "model.fit(X_train, y_train)\n",
    "\n",
    "# Evaluar el modelo en el conjunto de prueba\n",
    "y_pred = model.predict(X_test)\n",
    "mse = mean_squared_error(y_test, y_pred)\n",
    "print(\"Gradient Boosting MSE: \", mse)\n"
   ]
  },
  {
   "cell_type": "markdown",
   "id": "aa8f489c",
   "metadata": {},
   "source": [
    "Al usar Gradient Boosting se observa una mejora de mas de 10 unidades de diferencia en comparación con el MSE de la regresión lineal de 14.2, por lo que podemos concluir que Gradient Boosting está capturando mejor la complejidad de los datos y haciendo predicciones más precisas."
   ]
  }
 ],
 "metadata": {
  "kernelspec": {
   "display_name": "Python 3 (ipykernel)",
   "language": "python",
   "name": "python3"
  },
  "language_info": {
   "codemirror_mode": {
    "name": "ipython",
    "version": 3
   },
   "file_extension": ".py",
   "mimetype": "text/x-python",
   "name": "python",
   "nbconvert_exporter": "python",
   "pygments_lexer": "ipython3",
   "version": "3.11.5"
  }
 },
 "nbformat": 4,
 "nbformat_minor": 5
}
