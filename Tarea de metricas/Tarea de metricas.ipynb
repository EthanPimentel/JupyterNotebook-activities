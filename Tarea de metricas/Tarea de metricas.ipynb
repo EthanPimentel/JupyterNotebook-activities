{
 "cells": [
  {
   "cell_type": "markdown",
   "id": "414f406b",
   "metadata": {},
   "source": [
    "# Tarea de metrticas"
   ]
  },
  {
   "cell_type": "markdown",
   "id": "82891cbc",
   "metadata": {},
   "source": [
    "# Validación cruzada.\n",
    "\n",
    "La validación cruzada es una técnica para evaluar la generalización de los modelos estadísticos. Aquí veremos cómo implementar la validación cruzada de K-folds utilizando Scikit-learn."
   ]
  },
  {
   "cell_type": "code",
   "execution_count": 16,
   "id": "0e2f2f5f",
   "metadata": {},
   "outputs": [],
   "source": [
    "# Importación de librerías necesarias\n",
    "import numpy as np\n",
    "import pandas as pd\n",
    "from sklearn.model_selection import train_test_split, KFold, cross_val_score\n",
    "from sklearn.ensemble import RandomForestClassifier\n",
    "from sklearn.metrics import accuracy_score, recall_score, precision_score, f1_score, roc_auc_score, confusion_matrix, ConfusionMatrixDisplay\n",
    "import matplotlib.pyplot as plt\n",
    "import seaborn as sns\n",
    "from sklearn.datasets import load_iris\n",
    "\n",
    "# visitar link inferior para mas detalles de dataset\n",
    "# https://scikit-learn.org/stable/modules/generated/sklearn.datasets.load_iris.html#sklearn.datasets.load_iris\n",
    "\n",
    "# Cargar un conjunto de datos de ejemplo\n",
    "data = load_iris()\n",
    "X = data.data\n",
    "y = data.target\n",
    "\n",
    "# Dividir los datos en entrenamiento y prueba\n",
    "X_train, X_test, y_train, y_test = train_test_split(X, y, test_size=0.2, random_state=42)"
   ]
  },
  {
   "cell_type": "code",
   "execution_count": 17,
   "id": "7cd76b1d",
   "metadata": {},
   "outputs": [
    {
     "name": "stdout",
     "output_type": "stream",
     "text": [
      "Resultados de CV: [0.91666667 0.95833333 0.91666667 0.83333333 1.        ]\n",
      "Promedio de CV: 0.93\n"
     ]
    }
   ],
   "source": [
    "# Implementación de K-Fold Cross Validation\n",
    "kf = KFold(n_splits=5, random_state=42, shuffle=True)\n",
    "model = RandomForestClassifier(n_estimators=100, random_state=42)\n",
    "cv_results = cross_val_score(model, X_train, y_train, cv=kf, scoring='accuracy')\n",
    "\n",
    "print(f\"Resultados de CV: {cv_results}\")\n",
    "print(f\"Promedio de CV: {cv_results.mean():.2f}\")"
   ]
  },
  {
   "cell_type": "markdown",
   "id": "9dd7ebe6",
   "metadata": {},
   "source": [
    "### Resultados de la Validación Cruzada.\n",
    "\n",
    "```plaintext\n",
    "Resultados de CV: [0.91666667 0.95833333 0.91666667 0.83333333 1.        ]\n",
    "Promedio de CV: 0.93\n",
    "```\n",
    "\n",
    "### Análisis de resultados.\n",
    "\n",
    "Los resultados obtenidos muestran la exactitud de la validación cruzada en cada pliegue, con valores de 0.9167, 0.9583, 0.9167, 0.8333 y 1.0000, respectivamente.\n",
    "\n",
    "El promedio de exactitud a través de los 5 pliegues es de 0.93, lo que indica que el modelo de Random Forest tiene un buen rendimiento en este conjunto de datos. Esto sugiere que el modelo es robusto y tiene una alta capacidad predictiva para clasificar correctamente las especies de flores en el conjunto de datos Iris.\n"
   ]
  },
  {
   "cell_type": "markdown",
   "id": "cb81ee3b",
   "metadata": {},
   "source": [
    "# Matriz de Confusión.\n",
    "\n",
    "La matriz de confusión se utiliza para evaluar el rendimiento de un modelo de clasificación."
   ]
  },
  {
   "cell_type": "code",
   "execution_count": 18,
   "id": "a0d426b3",
   "metadata": {},
   "outputs": [
    {
     "data": {
      "image/png": "[encoded data removed]",
      "text/plain": [
       "<Figure size 1000x700 with 2 Axes>"
      ]
     },
     "metadata": {},
     "output_type": "display_data"
    }
   ],
   "source": [
    "# Entrenar el modelo\n",
    "model = RandomForestClassifier(n_estimators=100, random_state=42)\n",
    "model.fit(X_train, y_train)\n",
    "\n",
    "# Realizar predicciones\n",
    "y_pred = model.predict(X_test)\n",
    "\n",
    "# Generar la matriz de confusión\n",
    "cm = confusion_matrix(y_test, y_pred)\n",
    "\n",
    "# Visualizar la matriz de confusión usando Matplotlib y Seaborn\n",
    "plt.figure(figsize=(10, 7))\n",
    "sns.heatmap(cm, annot=True, fmt='d', cmap='Blues', xticklabels=data.target_names, yticklabels=data.target_names)\n",
    "plt.xlabel('Predicted')\n",
    "plt.ylabel('Actual')\n",
    "plt.title('Confusion Matrix')\n",
    "plt.show()"
   ]
  },
  {
   "cell_type": "code",
   "execution_count": 19,
   "id": "52736cae",
   "metadata": {},
   "outputs": [
    {
     "data": {
      "text/plain": [
       "array([[10,  0,  0],\n",
       "       [ 0,  9,  0],\n",
       "       [ 0,  0, 11]], dtype=int64)"
      ]
     },
     "execution_count": 19,
     "metadata": {},
     "output_type": "execute_result"
    }
   ],
   "source": [
    "cm"
   ]
  },
  {
   "cell_type": "markdown",
   "id": "77e27a85",
   "metadata": {},
   "source": [
    "## Conclusiones.\n",
    "\n",
    "##### Setosa\n",
    "- 10 instancias de Setosa fueron clasificadas correctamente como Setosa.\n",
    "- 0 instancias de Setosa fueron incorrectamente clasificadas como Versicolor.\n",
    "- 0 instancias de Setosa fueron incorrectamente clasificadas como Virginica.\n",
    "\n",
    "##### Versicolor\n",
    "- 0 instancias de Versicolor fueron incorrectamente clasificadas como Setosa.\n",
    "- 9 instancias de Versicolor fueron clasificadas correctamente como Versicolor.\n",
    "- 0 instancias de Versicolor fueron incorrectamente clasificadas como Virginica.\n",
    "\n",
    "##### Virginica\n",
    "- 0 instancias de Virginica fueron incorrectamente clasificadas como Setosa.\n",
    "- 0 instancias de Virginica fueron incorrectamente clasificadas como Versicolor.\n",
    "- 11 instancias de Virginica fueron clasificadas correctamente como Virginica.\n",
    "\n",
    "Tales resultados indican que el modelo modelo de Random Forest clasificó todas las instancias en el conjunto de prueba sin errores."
   ]
  },
  {
   "cell_type": "markdown",
   "id": "09baddb4",
   "metadata": {},
   "source": [
    "# Métricas de evaluación."
   ]
  },
  {
   "cell_type": "code",
   "execution_count": 39,
   "id": "01ec7ed8",
   "metadata": {},
   "outputs": [
    {
     "name": "stdout",
     "output_type": "stream",
     "text": [
      "Accuracy: 1.00\n",
      "Recall: 1.00\n",
      "Precision: 1.00\n",
      "F1 Score: 1.00\n",
      "ROC AUC Score: 1.00\n"
     ]
    }
   ],
   "source": [
    "# Calcular métricas\n",
    "accuracy = accuracy_score(y_test, y_pred)\n",
    "recall = recall_score(y_test, y_pred, average='micro')\n",
    "precision = precision_score(y_test, y_pred, average='micro')\n",
    "f1 = f1_score(y_test, y_pred, average='micro')\n",
    "\n",
    "y_pred_proba = model.predict_proba(X_test)\n",
    "roc_auc = roc_auc_score(y_test, y_pred_proba, average='macro', multi_class='ovr')\n",
    "\n",
    "print(f\"Accuracy: {accuracy:.2f}\")\n",
    "print(f\"Recall: {recall:.2f}\")\n",
    "print(f\"Precision: {precision:.2f}\")\n",
    "print(f\"F1 Score: {f1:.2f}\")\n",
    "print(f\"ROC AUC Score: {roc_auc:.2f}\")"
   ]
  },
  {
   "cell_type": "markdown",
   "id": "f4c998b4",
   "metadata": {},
   "source": [
    "## Conclusiones.\n",
    "Estos resultados indican un rendimiento sobresaliente del modelo de clasificación. Con una precisión del 100%, el modelo clasifica correctamente todas las muestras. Además, tanto la sensibilidad (recall) como la precisión (precision) también alcanzan el 100%, lo que significa que el modelo identifica correctamente todas las muestras positivas y no presenta falsos positivos.\n",
    "\n",
    "El puntaje F1, que es una medida combinada de precisión y sensibilidad, también es perfecto en 1.00. El puntaje de área bajo la curva ROC (ROC AUC) también es máximo, lo que sugiere que el modelo es capaz de distinguir perfectamente entre las clases."
   ]
  },
  {
   "cell_type": "code",
   "execution_count": null,
   "id": "b5b06dcf",
   "metadata": {},
   "outputs": [],
   "source": []
  }
 ],
 "metadata": {
  "kernelspec": {
   "display_name": "Python 3 (ipykernel)",
   "language": "python",
   "name": "python3"
  },
  "language_info": {
   "codemirror_mode": {
    "name": "ipython",
    "version": 3
   },
   "file_extension": ".py",
   "mimetype": "text/x-python",
   "name": "python",
   "nbconvert_exporter": "python",
   "pygments_lexer": "ipython3",
   "version": "3.11.5"
  }
 },
 "nbformat": 4,
 "nbformat_minor": 5
}
